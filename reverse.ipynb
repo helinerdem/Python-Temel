{
 "cells": [
  {
   "cell_type": "code",
   "execution_count": 1,
   "id": "c7b18bc0",
   "metadata": {},
   "outputs": [
    {
     "name": "stdout",
     "output_type": "stream",
     "text": [
      "[[6, 5, 4], [3, 2, 1], [9, 8, 7]]\n"
     ]
    }
   ],
   "source": [
    "\"\"\"\n",
    "Verilen listenin içindeki elemanları tersine döndüren bir fonk. yaz(reverse).\n",
    "\"\"\"\n",
    "\n",
    "l=[[7,8,9],[1,2,3],[4,5,6]]\n",
    "def revlist(l):\n",
    "    for h in range(len(l)):\n",
    "        l[h].reverse()\n",
    "    l.reverse()\n",
    "    print(l)\n",
    "    \n",
    "revlist(l)\n"
   ]
  },
  {
   "cell_type": "code",
   "execution_count": null,
   "id": "08befcfa",
   "metadata": {},
   "outputs": [],
   "source": []
  }
 ],
 "metadata": {
  "kernelspec": {
   "display_name": "Python 3 (ipykernel)",
   "language": "python",
   "name": "python3"
  },
  "language_info": {
   "codemirror_mode": {
    "name": "ipython",
    "version": 3
   },
   "file_extension": ".py",
   "mimetype": "text/x-python",
   "name": "python",
   "nbconvert_exporter": "python",
   "pygments_lexer": "ipython3",
   "version": "3.8.10"
  },
  "widgets": {
   "application/vnd.jupyter.widget-state+json": {
    "state": {},
    "version_major": 2,
    "version_minor": 0
   }
  }
 },
 "nbformat": 4,
 "nbformat_minor": 5
}
