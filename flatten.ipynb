{
 "cells": [
  {
   "cell_type": "code",
   "execution_count": 1,
   "id": "788602a2",
   "metadata": {},
   "outputs": [
    {
     "name": "stdout",
     "output_type": "stream",
     "text": [
      "[1, 2, 'lemon', 3, 4, 'orange', 5, 6, 7]\n"
     ]
    }
   ],
   "source": [
    "\"\"\"\n",
    "Flatten fonk. yaz.\n",
    "Elemanları birden çok katmanlı listeler ya da non-scalar veriler olabilir.\n",
    "\"\"\"\n",
    "\n",
    "fruitlist=[1,[2,'lemon',3],[4,['orange'],5],6,7]\n",
    "flat=[]\n",
    "def flatten(fruitlist):\n",
    "    for i in fruitlist:\n",
    "        if isinstance(i,list):\n",
    "            flatten(i)\n",
    "        else:\n",
    "            flat.append(i)\n",
    "flatten(fruitlist)\n",
    "print(flat)\n"
   ]
  },
  {
   "cell_type": "code",
   "execution_count": null,
   "id": "43dbe5d5",
   "metadata": {},
   "outputs": [],
   "source": []
  }
 ],
 "metadata": {
  "kernelspec": {
   "display_name": "Python 3 (ipykernel)",
   "language": "python",
   "name": "python3"
  },
  "language_info": {
   "codemirror_mode": {
    "name": "ipython",
    "version": 3
   },
   "file_extension": ".py",
   "mimetype": "text/x-python",
   "name": "python",
   "nbconvert_exporter": "python",
   "pygments_lexer": "ipython3",
   "version": "3.8.10"
  },
  "widgets": {
   "application/vnd.jupyter.widget-state+json": {
    "state": {},
    "version_major": 2,
    "version_minor": 0
   }
  }
 },
 "nbformat": 4,
 "nbformat_minor": 5
}
